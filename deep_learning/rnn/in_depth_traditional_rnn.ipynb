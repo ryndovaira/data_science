{
 "cells": [
  {
   "cell_type": "code",
   "execution_count": null,
   "id": "initial_id",
   "metadata": {
    "collapsed": true
   },
   "outputs": [],
   "source": [
    "\n",
    "## Architecture\n",
    "### Overview\n",
    "<в виде списка. общее описание архитектуры и основные её особенностей>\n",
    "### Forward Propagation\n",
    "<очень тщательное описание по шагам>\n",
    "### Backward Propagation\n",
    "<очень тщательное описание по шагам>\n",
    "### Challenges\n",
    "<в виде списка. каковы проблемы, если имеются? Подробно описать проблему и её причину. Насколько они серьёзные? Они решены на текущий момент и как? >"
   ]
  }
 ],
 "metadata": {
  "kernelspec": {
   "display_name": "Python 3",
   "language": "python",
   "name": "python3"
  },
  "language_info": {
   "codemirror_mode": {
    "name": "ipython",
    "version": 2
   },
   "file_extension": ".py",
   "mimetype": "text/x-python",
   "name": "python",
   "nbconvert_exporter": "python",
   "pygments_lexer": "ipython2",
   "version": "2.7.6"
  }
 },
 "nbformat": 4,
 "nbformat_minor": 5
}
