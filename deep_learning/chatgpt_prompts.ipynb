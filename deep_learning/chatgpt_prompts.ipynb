{
 "cells": [
  {
   "metadata": {},
   "cell_type": "raw",
   "source": [
    "In the Current Relevance section, use the following scale to describe the model's current usage and importance:\n",
    "\n",
    "\"Obsolete\" – No longer in practical use.\n",
    "\"Rarely Used\" – Limited to very specific or outdated systems.\n",
    "\"Specialized Use\" – Applied in niche tasks or areas.\n",
    "\"Moderately Used\" – Significant, but not dominant, in some fields.\n",
    "\"Widely Used\" – Commonly applied and recognized as reliable.\n",
    "\"Dominant in [Placeholder for Specific Area]\" – Leading in a specific area or application (fill in the area).\n",
    "\"State of the Art (SOTA)\" – Cutting-edge and top-performing in the field.#%% md\n"
   ],
   "id": "33dc962a21cd26ab"
  },
  {
   "metadata": {},
   "cell_type": "markdown",
   "source": "Review your answer to ensure it is comprehensive, accurate, free of mistakes, easy to understand, and contains all important details. If any issues are found, correct them and rewrite the entire answer. If no issues are found, simply respond with 'no problems' or a similar phrase.",
   "id": "32cb5647050a8585"
  },
  {
   "metadata": {},
   "cell_type": "markdown",
   "source": "I am preparing a handbook/textbook on Data Science. I will provide a template, and you will fill it with information. Use simple and clear language, avoiding complex or sophisticated expressions. Be concise but ensure all important details are covered. The text should be suitable for students and for individuals who speak English as a second language.",
   "id": "d4140ec2021df230"
  },
  {
   "metadata": {},
   "cell_type": "markdown",
   "source": "Imagine you are a teacher. I gave you a text that you must read behind the audience. When I say \"start reading\" you should start to read the given text. Don't change it. Just read the given text. Is it clear?",
   "id": "df182060ea2ace10"
  }
 ],
 "metadata": {
  "kernelspec": {
   "display_name": "Python 3",
   "language": "python",
   "name": "python3"
  },
  "language_info": {
   "codemirror_mode": {
    "name": "ipython",
    "version": 2
   },
   "file_extension": ".py",
   "mimetype": "text/x-python",
   "name": "python",
   "nbconvert_exporter": "python",
   "pygments_lexer": "ipython2",
   "version": "2.7.6"
  }
 },
 "nbformat": 4,
 "nbformat_minor": 5
}
